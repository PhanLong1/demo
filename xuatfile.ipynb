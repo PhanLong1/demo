{
  "nbformat": 4,
  "nbformat_minor": 0,
  "metadata": {
    "colab": {
      "name": "xuatfile.ipynb",
      "provenance": [],
      "authorship_tag": "ABX9TyOy4ePQiAeO8L2WuUzKHmjX",
      "include_colab_link": true
    },
    "kernelspec": {
      "name": "python3",
      "display_name": "Python 3"
    }
  },
  "cells": [
    {
      "cell_type": "markdown",
      "metadata": {
        "id": "view-in-github",
        "colab_type": "text"
      },
      "source": [
        "<a href=\"https://colab.research.google.com/github/PhanLong1/demo/blob/main/xuatfile.ipynb\" target=\"_parent\"><img src=\"https://colab.research.google.com/assets/colab-badge.svg\" alt=\"Open In Colab\"/></a>"
      ]
    },
    {
      "cell_type": "markdown",
      "metadata": {
        "id": "M-MQQnkul628"
      },
      "source": [
        "Tạo một biến x kiểu List rỗng"
      ]
    },
    {
      "cell_type": "code",
      "metadata": {
        "id": "2-6Ji16VYHR_"
      },
      "source": [
        "x = []\r\n",
        "\r\n"
      ],
      "execution_count": 6,
      "outputs": []
    },
    {
      "cell_type": "markdown",
      "metadata": {
        "id": "KD61HIc7mCCz"
      },
      "source": [
        "Thêm giá trị 18 vào x"
      ]
    },
    {
      "cell_type": "code",
      "metadata": {
        "id": "FubknxGTmELz"
      },
      "source": [
        "x.append(\"18\")"
      ],
      "execution_count": 7,
      "outputs": []
    },
    {
      "cell_type": "markdown",
      "metadata": {
        "id": "cT9ZO7C7mHv0"
      },
      "source": [
        "Thêm giá trị \"Huế\" vào x"
      ]
    },
    {
      "cell_type": "code",
      "metadata": {
        "id": "C4jJ0qJ0mK6S"
      },
      "source": [
        "x.append(\"Huế\")"
      ],
      "execution_count": 8,
      "outputs": []
    },
    {
      "cell_type": "markdown",
      "metadata": {
        "id": "7Q_1gCi5mqom"
      },
      "source": [
        "Tạo 1 List  y = [12, 45, -1, -0.56, \"abc\"]"
      ]
    },
    {
      "cell_type": "code",
      "metadata": {
        "id": "ZfCc8hBSmsKy"
      },
      "source": [
        "y = [12, 45, -1, -0.56,\"abc\"]"
      ],
      "execution_count": 9,
      "outputs": []
    },
    {
      "cell_type": "markdown",
      "metadata": {
        "id": "FHM-1k0Gm72w"
      },
      "source": [
        "Thêm y vào x"
      ]
    },
    {
      "cell_type": "code",
      "metadata": {
        "id": "qgjKJJBpm_2L"
      },
      "source": [
        "x.extend(y)"
      ],
      "execution_count": 10,
      "outputs": []
    },
    {
      "cell_type": "markdown",
      "metadata": {
        "id": "BV5Vrbs8nHuI"
      },
      "source": [
        "Xuất giá trị của x ra màn hình"
      ]
    },
    {
      "cell_type": "code",
      "metadata": {
        "colab": {
          "base_uri": "https://localhost:8080/"
        },
        "id": "R6Hj5ZntnWmY",
        "outputId": "38c0c0a3-7ac3-4a78-ed08-6d0779ecd10f"
      },
      "source": [
        "print(\"x: \", x)"
      ],
      "execution_count": 11,
      "outputs": [
        {
          "output_type": "stream",
          "text": [
            "x:  ['18', 'Huế', 12, 45, -1, -0.56, 'abc']\n"
          ],
          "name": "stdout"
        }
      ]
    },
    {
      "cell_type": "markdown",
      "metadata": {
        "id": "lgSLZC6JnZMw"
      },
      "source": [
        "In ra màn hình giá trị của phần tử cuối cùng và phần tử đầu tiên của x"
      ]
    },
    {
      "cell_type": "code",
      "metadata": {
        "colab": {
          "base_uri": "https://localhost:8080/"
        },
        "id": "EMUs-RXAncKr",
        "outputId": "39e1ff50-b873-40e2-a97a-129a9df81c45"
      },
      "source": [
        "print(x[-1],\"--\",x[0])"
      ],
      "execution_count": 12,
      "outputs": [
        {
          "output_type": "stream",
          "text": [
            "abc -- 18\n"
          ],
          "name": "stdout"
        }
      ]
    },
    {
      "cell_type": "markdown",
      "metadata": {
        "id": "ukQnS3SenekA"
      },
      "source": [
        "In ra màn hình giá trị của phần tử đầu tiên đến phần tử thứ 5 của x"
      ]
    },
    {
      "cell_type": "code",
      "metadata": {
        "colab": {
          "base_uri": "https://localhost:8080/"
        },
        "id": "1JqZKSrYngZ4",
        "outputId": "1fde3563-fe20-440f-d339-80cc414c3ae7"
      },
      "source": [
        "print(x[:5])"
      ],
      "execution_count": 15,
      "outputs": [
        {
          "output_type": "stream",
          "text": [
            "['18', 'Huế', 12, 45, -1]\n"
          ],
          "name": "stdout"
        }
      ]
    },
    {
      "cell_type": "markdown",
      "metadata": {
        "id": "pbp_7JzKnl0A"
      },
      "source": [
        "In ra màn hình giá trị của phần từ thứ 3 đến cuối cùng của x"
      ]
    },
    {
      "cell_type": "code",
      "metadata": {
        "colab": {
          "base_uri": "https://localhost:8080/"
        },
        "id": "d6oQpP15nn5o",
        "outputId": "765c5f57-2f86-4ddf-d6a5-8a6e6f90fb45"
      },
      "source": [
        "print(x[2:])"
      ],
      "execution_count": 16,
      "outputs": [
        {
          "output_type": "stream",
          "text": [
            "[12, 45, -1, -0.56, 'abc']\n"
          ],
          "name": "stdout"
        }
      ]
    }
  ]
}