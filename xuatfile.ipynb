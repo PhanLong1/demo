{
  "nbformat": 4,
  "nbformat_minor": 0,
  "metadata": {
    "colab": {
      "name": "xuatfile.ipynb",
      "provenance": [],
      "authorship_tag": "ABX9TyNzTW4ObUdB34ktq4gE1HzF",
      "include_colab_link": true
    },
    "kernelspec": {
      "name": "python3",
      "display_name": "Python 3"
    }
  },
  "cells": [
    {
      "cell_type": "markdown",
      "metadata": {
        "id": "view-in-github",
        "colab_type": "text"
      },
      "source": [
        "<a href=\"https://colab.research.google.com/github/PhanLong1/demo/blob/main/xuatfile.ipynb\" target=\"_parent\"><img src=\"https://colab.research.google.com/assets/colab-badge.svg\" alt=\"Open In Colab\"/></a>"
      ]
    },
    {
      "cell_type": "code",
      "metadata": {
        "colab": {
          "base_uri": "https://localhost:8080/"
        },
        "id": "RBBFy-qJT1qO",
        "outputId": "648ebe47-18d6-4c33-8b2c-194e42e0acbb"
      },
      "source": [
        "print(\"hello github and colab\")"
      ],
      "execution_count": 2,
      "outputs": [
        {
          "output_type": "stream",
          "text": [
            "hello github and colab\n"
          ],
          "name": "stdout"
        }
      ]
    }
  ]
}